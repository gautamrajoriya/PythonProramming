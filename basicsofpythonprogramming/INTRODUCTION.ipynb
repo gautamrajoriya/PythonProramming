{
 "cells": [
  {
   "cell_type": "markdown",
   "metadata": {},
   "source": [
    "# **introduction to python programming**"
   ]
  },
  {
   "cell_type": "markdown",
   "metadata": {},
   "source": []
  },
  {
   "cell_type": "code",
   "execution_count": 15,
   "metadata": {},
   "outputs": [],
   "source": [
    "# variable assinment\n",
    "\n",
    "number  = 100\n",
    "number1 = 100.20\n",
    "string  = 'hello world'\n",
    "\n",
    "num     = '1234'\n",
    "\n",
    "num1,num2,num3 = 10,20,30\n"
   ]
  },
  {
   "cell_type": "code",
   "execution_count": 16,
   "metadata": {},
   "outputs": [
    {
     "name": "stdout",
     "output_type": "stream",
     "text": [
      "100\n"
     ]
    }
   ],
   "source": [
    "#Printing a variable \n",
    "print(number)\n"
   ]
  },
  {
   "cell_type": "code",
   "execution_count": 17,
   "metadata": {},
   "outputs": [
    {
     "data": {
      "text/plain": [
       "int"
      ]
     },
     "execution_count": 17,
     "metadata": {},
     "output_type": "execute_result"
    }
   ],
   "source": [
    "type(number)"
   ]
  },
  {
   "cell_type": "code",
   "execution_count": 18,
   "metadata": {},
   "outputs": [
    {
     "name": "stdout",
     "output_type": "stream",
     "text": [
      "<class 'int'>\n",
      "<class 'float'>\n",
      "<class 'str'>\n",
      "<class 'str'>\n"
     ]
    }
   ],
   "source": [
    "# Checking data types\n",
    "\n",
    "print(type(number))\n",
    "print(type(number1))\n",
    "print(type(string))\n",
    "print(type(num))"
   ]
  },
  {
   "cell_type": "code",
   "execution_count": 19,
   "metadata": {},
   "outputs": [
    {
     "name": "stdout",
     "output_type": "stream",
     "text": [
      "the varieble name in number is  100\n"
     ]
    }
   ],
   "source": [
    "print('the varieble name in number is ',number)"
   ]
  },
  {
   "cell_type": "code",
   "execution_count": 20,
   "metadata": {},
   "outputs": [
    {
     "name": "stdout",
     "output_type": "stream",
     "text": [
      "the addintion of number number1 and number2 is  2000\n"
     ]
    }
   ],
   "source": [
    "number1 = 1000 \n",
    "number2 = 2000 \n",
    "number3 = number1 = number2\n",
    "\n",
    "print('the addintion of number number1 and number2 is ',number1)"
   ]
  },
  {
   "cell_type": "code",
   "execution_count": 21,
   "metadata": {},
   "outputs": [
    {
     "name": "stdout",
     "output_type": "stream",
     "text": [
      "the substraction  of number number1 and number2 is  -1000\n"
     ]
    }
   ],
   "source": [
    "number1 = 1000 \n",
    "number2 = 2000 \n",
    "number3 = number1 - number2\n",
    "\n",
    "print('the substraction  of number number1 and number2 is ',number3)"
   ]
  },
  {
   "cell_type": "code",
   "execution_count": 22,
   "metadata": {},
   "outputs": [
    {
     "name": "stdout",
     "output_type": "stream",
     "text": [
      "the multiplication of number number1 and number2 is  2000000\n"
     ]
    }
   ],
   "source": [
    "number1 = 1000 \n",
    "number2 = 2000 \n",
    "number3 = number1 * number2\n",
    "\n",
    "print('the multiplication of number number1 and number2 is ',number3)"
   ]
  },
  {
   "cell_type": "code",
   "execution_count": 23,
   "metadata": {},
   "outputs": [
    {
     "name": "stdout",
     "output_type": "stream",
     "text": [
      "the division  of number number1 and number2 is  2.0\n"
     ]
    }
   ],
   "source": [
    "number1 = 1000 \n",
    "number2 = 2000 \n",
    "number3 = number2 / number1\n",
    "\n",
    "print('the division  of number number1 and number2 is ',number3)"
   ]
  },
  {
   "cell_type": "code",
   "execution_count": 24,
   "metadata": {},
   "outputs": [
    {
     "name": "stdout",
     "output_type": "stream",
     "text": [
      "the division  of number number1 and number2 is  2\n"
     ]
    }
   ],
   "source": [
    "# floor division \n",
    "\n",
    "number1 = 1000 \n",
    "number2 = 2000 \n",
    "number3 = number2 // number1\n",
    "\n",
    "print('the division  of number number1 and number2 is ',number3)"
   ]
  },
  {
   "cell_type": "code",
   "execution_count": 25,
   "metadata": {},
   "outputs": [
    {
     "name": "stdout",
     "output_type": "stream",
     "text": [
      "Additon of num and num1: 12341234\n"
     ]
    }
   ],
   "source": [
    "num = 2 \n",
    "num1 ='1234'\n",
    "\n",
    "print('Additon of num and num1:', (num * num1))"
   ]
  },
  {
   "cell_type": "code",
   "execution_count": null,
   "metadata": {},
   "outputs": [],
   "source": [
    "number = input('enter the number: ')\n",
    "print(number)"
   ]
  },
  {
   "cell_type": "code",
   "execution_count": null,
   "metadata": {},
   "outputs": [],
   "source": [
    "name = input('enter the name: ')\n",
    "print(name)"
   ]
  },
  {
   "cell_type": "code",
   "execution_count": null,
   "metadata": {},
   "outputs": [],
   "source": [
    "# type casting \n",
    "num = int(input('enter the number: '))\n",
    "\n",
    "print(num)\n",
    "print(type(num)) # type casting from strinf ti integer"
   ]
  },
  {
   "cell_type": "code",
   "execution_count": null,
   "metadata": {},
   "outputs": [],
   "source": [
    "# addition of two numbers \n",
    "num1 = int(input('enter the first number : '))\n",
    "num2 = int(input('enter the second number : '))\n",
    "num3 = num1 + num2\n",
    "\n",
    "print('the sum of two number is ',num3)"
   ]
  },
  {
   "cell_type": "code",
   "execution_count": null,
   "metadata": {},
   "outputs": [
    {
     "ename": "ValueError",
     "evalue": "could not convert string to float: ''",
     "output_type": "error",
     "traceback": [
      "\u001b[1;31m---------------------------------------------------------------------------\u001b[0m",
      "\u001b[1;31mValueError\u001b[0m                                Traceback (most recent call last)",
      "Cell \u001b[1;32mIn[14], line 1\u001b[0m\n\u001b[1;32m----> 1\u001b[0m num1 \u001b[38;5;241m=\u001b[39m \u001b[38;5;28mfloat\u001b[39m(\u001b[38;5;28minput\u001b[39m(\u001b[38;5;124m'\u001b[39m\u001b[38;5;124menter the first number : \u001b[39m\u001b[38;5;124m'\u001b[39m))\n\u001b[0;32m      2\u001b[0m num2 \u001b[38;5;241m=\u001b[39m \u001b[38;5;28mfloat\u001b[39m(\u001b[38;5;28minput\u001b[39m(\u001b[38;5;124m'\u001b[39m\u001b[38;5;124menter the second number : \u001b[39m\u001b[38;5;124m'\u001b[39m))\n\u001b[0;32m      4\u001b[0m \u001b[38;5;28mprint\u001b[39m(\u001b[38;5;124m'\u001b[39m\u001b[38;5;124mthe sum of two number is \u001b[39m\u001b[38;5;124m'\u001b[39m,num3)\n",
      "\u001b[1;31mValueError\u001b[0m: could not convert string to float: ''"
     ]
    }
   ],
   "source": [
    "num1 = float(input('enter the first number : '))\n",
    "num2 = float(input('enter the second number : '))\n",
    "\n",
    "print('the sum of two number is ',num3)\n"
   ]
  }
 ],
 "metadata": {
  "kernelspec": {
   "display_name": "base",
   "language": "python",
   "name": "python3"
  },
  "language_info": {
   "codemirror_mode": {
    "name": "ipython",
    "version": 3
   },
   "file_extension": ".py",
   "mimetype": "text/x-python",
   "name": "python",
   "nbconvert_exporter": "python",
   "pygments_lexer": "ipython3",
   "version": "3.12.7"
  }
 },
 "nbformat": 4,
 "nbformat_minor": 2
}
