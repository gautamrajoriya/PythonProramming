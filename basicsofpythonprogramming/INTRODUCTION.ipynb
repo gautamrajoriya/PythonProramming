{
 "cells": [
  {
   "cell_type": "markdown",
   "metadata": {},
   "source": [
    "# **introduction to python programming**"
   ]
  },
  {
   "cell_type": "markdown",
   "metadata": {},
   "source": []
  },
  {
   "cell_type": "code",
   "execution_count": 2,
   "metadata": {},
   "outputs": [],
   "source": [
    "# variable assinment\n",
    "\n",
    "number  = 100\n",
    "number1 = 100.20\n",
    "str     = 'hello world'\n",
    "\n",
    "num     = '1234'\n",
    "\n",
    "num1,num2,num3 = 10,20,30\n"
   ]
  },
  {
   "cell_type": "code",
   "execution_count": 3,
   "metadata": {},
   "outputs": [
    {
     "name": "stdout",
     "output_type": "stream",
     "text": [
      "100\n"
     ]
    }
   ],
   "source": [
    "print(number)\n"
   ]
  },
  {
   "cell_type": "code",
   "execution_count": 4,
   "metadata": {},
   "outputs": [
    {
     "data": {
      "text/plain": [
       "int"
      ]
     },
     "execution_count": 4,
     "metadata": {},
     "output_type": "execute_result"
    }
   ],
   "source": [
    "type(number)"
   ]
  },
  {
   "cell_type": "code",
   "execution_count": null,
   "metadata": {},
   "outputs": [
    {
     "name": "stdout",
     "output_type": "stream",
     "text": [
      "<class 'int'>\n",
      "<class 'float'>\n"
     ]
    },
    {
     "ename": "TypeError",
     "evalue": "'int' object is not callable",
     "output_type": "error",
     "traceback": [
      "\u001b[1;31m---------------------------------------------------------------------------\u001b[0m",
      "\u001b[1;31mTypeError\u001b[0m                                 Traceback (most recent call last)",
      "Cell \u001b[1;32mIn[9], line 3\u001b[0m\n\u001b[0;32m      1\u001b[0m \u001b[38;5;28mprint\u001b[39m(\u001b[38;5;28mtype\u001b[39m(number))\n\u001b[0;32m      2\u001b[0m \u001b[38;5;28mprint\u001b[39m(\u001b[38;5;28mtype\u001b[39m(number1))\n\u001b[1;32m----> 3\u001b[0m \u001b[38;5;28mprint\u001b[39m(number(\u001b[38;5;28mstr\u001b[39m ))\n",
      "\u001b[1;31mTypeError\u001b[0m: 'int' object is not callable"
     ]
    }
   ],
   "source": [
    "print(type(number))\n",
    "print(type(number))\n",
    "print(number(str))"
   ]
  },
  {
   "cell_type": "code",
   "execution_count": 10,
   "metadata": {},
   "outputs": [
    {
     "name": "stdout",
     "output_type": "stream",
     "text": [
      "the varieble name in number is  100\n"
     ]
    }
   ],
   "source": [
    "print('the varieble name in number is ',number)"
   ]
  },
  {
   "cell_type": "code",
   "execution_count": 11,
   "metadata": {},
   "outputs": [
    {
     "name": "stdout",
     "output_type": "stream",
     "text": [
      "the addintion of number number1 and number2 is  2000\n"
     ]
    }
   ],
   "source": [
    "number1 = 1000 \n",
    "number2 = 2000 \n",
    "number3 = number1 = number2\n",
    "\n",
    "print('the addintion of number number1 and number2 is ',number1)"
   ]
  },
  {
   "cell_type": "code",
   "execution_count": 20,
   "metadata": {},
   "outputs": [
    {
     "name": "stdout",
     "output_type": "stream",
     "text": [
      "the substraction  of number number1 and number2 is  -1000\n"
     ]
    }
   ],
   "source": [
    "number1 = 1000 \n",
    "number2 = 2000 \n",
    "number3 = number1 - number2\n",
    "\n",
    "print('the substraction  of number number1 and number2 is ',number3)"
   ]
  },
  {
   "cell_type": "code",
   "execution_count": 19,
   "metadata": {},
   "outputs": [
    {
     "name": "stdout",
     "output_type": "stream",
     "text": [
      "the multiplication of number number1 and number2 is  2000000\n"
     ]
    }
   ],
   "source": [
    "number1 = 1000 \n",
    "number2 = 2000 \n",
    "number3 = number1 * number2\n",
    "\n",
    "print('the multiplication of number number1 and number2 is ',number3)"
   ]
  },
  {
   "cell_type": "code",
   "execution_count": 14,
   "metadata": {},
   "outputs": [
    {
     "name": "stdout",
     "output_type": "stream",
     "text": [
      "the division  of number number1 and number2 is  2.0\n"
     ]
    }
   ],
   "source": [
    "number1 = 1000 \n",
    "number2 = 2000 \n",
    "number3 = number2 / number1\n",
    "\n",
    "print('the division  of number number1 and number2 is ',number3)"
   ]
  },
  {
   "cell_type": "code",
   "execution_count": 18,
   "metadata": {},
   "outputs": [
    {
     "name": "stdout",
     "output_type": "stream",
     "text": [
      "the division  of number number1 and number2 is  2\n"
     ]
    }
   ],
   "source": [
    "# floot division \n",
    "\n",
    "number1 = 1000 \n",
    "number2 = 2000 \n",
    "number3 = number2 // number1\n",
    "\n",
    "print('the division  of number number1 and number2 is ',number3)"
   ]
  },
  {
   "cell_type": "code",
   "execution_count": null,
   "metadata": {},
   "outputs": [],
   "source": [
    "num = 100 \n",
    "num1 = '1234'\n",
    "\n",
    "print"
   ]
  }
 ],
 "metadata": {
  "kernelspec": {
   "display_name": "base",
   "language": "python",
   "name": "python3"
  },
  "language_info": {
   "codemirror_mode": {
    "name": "ipython",
    "version": 3
   },
   "file_extension": ".py",
   "mimetype": "text/x-python",
   "name": "python",
   "nbconvert_exporter": "python",
   "pygments_lexer": "ipython3",
   "version": "3.12.7"
  }
 },
 "nbformat": 4,
 "nbformat_minor": 2
}
